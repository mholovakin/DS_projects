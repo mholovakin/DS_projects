{
 "cells": [
  {
   "cell_type": "code",
   "execution_count": 2,
   "metadata": {},
   "outputs": [],
   "source": [
    "import numpy as np\n",
    "import pandas as pd\n",
    "import random\n",
    "import matplotlib.pyplot as plt"
   ]
  },
  {
   "cell_type": "code",
   "execution_count": 3,
   "metadata": {},
   "outputs": [],
   "source": [
    "def improve_data(df, replace = 1):\n",
    "    for column in df:\n",
    "        if df[column].dtypes == 'object' or df[column].dtypes == 'bool':\n",
    "            if df[column].isna().sum():\n",
    "                df[column] = df[column].ffill()\n",
    "        if df[column].dtypes == 'int64':\n",
    "            if df[column].isna().sum():\n",
    "                if replace == 0:\n",
    "                    df[column] = df[column].fillna(0)\n",
    "                if replace == 1:\n",
    "                    df[column] = df[column].fillna(df[column].mean())\n",
    "                if replace == 2:\n",
    "                    df[column] = df[column].ffill()\n",
    "        if df[column].dtypes == 'float64':\n",
    "            if df[column].isna().sum():\n",
    "                if replace == 0:\n",
    "                    df[column] = df[column].fillna(0.0)\n",
    "                if replace == 1:\n",
    "                    df[column] = df[column].fillna(df[column].mean())\n",
    "                if replace == 2:\n",
    "                    df[column] = df[column].ffill()\n",
    "    return df\n",
    "\n",
    "def normalize_data(df, nor = 0):\n",
    "    for col in df:\n",
    "        if df[col].dtypes == 'float64' or df[col].dtypes == 'int64':\n",
    "            if nor == 0:\n",
    "                Xmax = max(df[col])\n",
    "                Xmin = min(df[col])\n",
    "                for i in range(len(df[col])):\n",
    "                    df[col][i] = (df[col][i] - Xmin)/(Xmax-Xmin)\n",
    "            if nor == 1:\n",
    "                Xmean = df[col].mean()\n",
    "                sig = df[col].std()\n",
    "                for i in range(len(df[col])):\n",
    "                    df[col][i] = (df[col][i] - Xmean)/sig\n",
    "    return df"
   ]
  },
  {
   "cell_type": "code",
   "execution_count": 4,
   "metadata": {},
   "outputs": [],
   "source": [
    "def plotScatter(model):\n",
    "    cluster1 = model[0]\n",
    "    cluster2 = model[1]\n",
    "    plt.figure(figsize=(12,9))\n",
    "    plt.plot(cluster1.iloc[:, 0], cluster1.iloc[:, 1])\n",
    "    plt.plot(cluster2.iloc[:, 0], cluster2.iloc[:, 1])\n",
    "    plt.scatter(cluster2.iloc[:, 0], cluster2.iloc[:, 1], label='cluster 1')\n",
    "    plt.scatter(cluster1.iloc[:, 0], cluster1.iloc[:, 1], label='cluster 2')\n",
    "    plt.xticks(np.arange(0, 1.05, step=0.05))\n",
    "    plt.yticks(np.arange(0, 1.05, step=0.05))\n",
    "    plt.xlabel('x')\n",
    "    plt.ylabel('y')\n",
    "    plt.title('KRAB clustering')\n",
    "    plt.grid()\n",
    "    plt.legend()"
   ]
  },
  {
   "cell_type": "code",
   "execution_count": 5,
   "metadata": {},
   "outputs": [],
   "source": [
    "df = pd.read_csv('dmd.csv')\n",
    "df = df.rename(columns={'h':'x', 'pk':'y'})\n",
    "df = df[['x','y']]\n",
    "df = improve_data(df)\n",
    "df = normalize_data(df)\n",
    "df = df[:50]"
   ]
  },
  {
   "cell_type": "code",
   "execution_count": 6,
   "metadata": {},
   "outputs": [
    {
     "data": {
      "text/html": [
       "<div>\n",
       "<style scoped>\n",
       "    .dataframe tbody tr th:only-of-type {\n",
       "        vertical-align: middle;\n",
       "    }\n",
       "\n",
       "    .dataframe tbody tr th {\n",
       "        vertical-align: top;\n",
       "    }\n",
       "\n",
       "    .dataframe thead th {\n",
       "        text-align: right;\n",
       "    }\n",
       "</style>\n",
       "<table border=\"1\" class=\"dataframe\">\n",
       "  <thead>\n",
       "    <tr style=\"text-align: right;\">\n",
       "      <th></th>\n",
       "      <th>x</th>\n",
       "      <th>y</th>\n",
       "    </tr>\n",
       "  </thead>\n",
       "  <tbody>\n",
       "    <tr>\n",
       "      <th>0</th>\n",
       "      <td>0.825688</td>\n",
       "      <td>0.074618</td>\n",
       "    </tr>\n",
       "    <tr>\n",
       "      <th>1</th>\n",
       "      <td>0.779817</td>\n",
       "      <td>0.083946</td>\n",
       "    </tr>\n",
       "    <tr>\n",
       "      <th>2</th>\n",
       "      <td>0.701835</td>\n",
       "      <td>0.113808</td>\n",
       "    </tr>\n",
       "    <tr>\n",
       "      <th>3</th>\n",
       "      <td>0.718320</td>\n",
       "      <td>0.113808</td>\n",
       "    </tr>\n",
       "    <tr>\n",
       "      <th>4</th>\n",
       "      <td>0.775229</td>\n",
       "      <td>0.039181</td>\n",
       "    </tr>\n",
       "    <tr>\n",
       "      <th>5</th>\n",
       "      <td>0.908257</td>\n",
       "      <td>0.101673</td>\n",
       "    </tr>\n",
       "    <tr>\n",
       "      <th>6</th>\n",
       "      <td>0.781537</td>\n",
       "      <td>0.083017</td>\n",
       "    </tr>\n",
       "    <tr>\n",
       "      <th>7</th>\n",
       "      <td>0.752294</td>\n",
       "      <td>0.109143</td>\n",
       "    </tr>\n",
       "    <tr>\n",
       "      <th>8</th>\n",
       "      <td>0.752294</td>\n",
       "      <td>0.092345</td>\n",
       "    </tr>\n",
       "    <tr>\n",
       "      <th>9</th>\n",
       "      <td>0.770642</td>\n",
       "      <td>0.116595</td>\n",
       "    </tr>\n",
       "    <tr>\n",
       "      <th>10</th>\n",
       "      <td>0.669725</td>\n",
       "      <td>0.121259</td>\n",
       "    </tr>\n",
       "    <tr>\n",
       "      <th>11</th>\n",
       "      <td>0.651376</td>\n",
       "      <td>0.094203</td>\n",
       "    </tr>\n",
       "    <tr>\n",
       "      <th>12</th>\n",
       "      <td>0.614679</td>\n",
       "      <td>0.128711</td>\n",
       "    </tr>\n",
       "    <tr>\n",
       "      <th>13</th>\n",
       "      <td>0.669725</td>\n",
       "      <td>0.094203</td>\n",
       "    </tr>\n",
       "    <tr>\n",
       "      <th>14</th>\n",
       "      <td>0.752294</td>\n",
       "      <td>0.069953</td>\n",
       "    </tr>\n",
       "    <tr>\n",
       "      <th>15</th>\n",
       "      <td>0.816514</td>\n",
       "      <td>0.083017</td>\n",
       "    </tr>\n",
       "    <tr>\n",
       "      <th>16</th>\n",
       "      <td>0.669725</td>\n",
       "      <td>0.106338</td>\n",
       "    </tr>\n",
       "    <tr>\n",
       "      <th>17</th>\n",
       "      <td>0.623853</td>\n",
       "      <td>0.116595</td>\n",
       "    </tr>\n",
       "    <tr>\n",
       "      <th>18</th>\n",
       "      <td>0.614679</td>\n",
       "      <td>0.133375</td>\n",
       "    </tr>\n",
       "    <tr>\n",
       "      <th>19</th>\n",
       "      <td>0.600917</td>\n",
       "      <td>0.087681</td>\n",
       "    </tr>\n",
       "    <tr>\n",
       "      <th>20</th>\n",
       "      <td>0.655963</td>\n",
       "      <td>0.077423</td>\n",
       "    </tr>\n",
       "    <tr>\n",
       "      <th>21</th>\n",
       "      <td>0.711009</td>\n",
       "      <td>0.097009</td>\n",
       "    </tr>\n",
       "    <tr>\n",
       "      <th>22</th>\n",
       "      <td>0.481651</td>\n",
       "      <td>0.066218</td>\n",
       "    </tr>\n",
       "    <tr>\n",
       "      <th>23</th>\n",
       "      <td>0.577982</td>\n",
       "      <td>0.084875</td>\n",
       "    </tr>\n",
       "    <tr>\n",
       "      <th>24</th>\n",
       "      <td>0.559633</td>\n",
       "      <td>0.128711</td>\n",
       "    </tr>\n",
       "    <tr>\n",
       "      <th>25</th>\n",
       "      <td>0.816514</td>\n",
       "      <td>0.126853</td>\n",
       "    </tr>\n",
       "    <tr>\n",
       "      <th>26</th>\n",
       "      <td>0.623853</td>\n",
       "      <td>0.076494</td>\n",
       "    </tr>\n",
       "    <tr>\n",
       "      <th>27</th>\n",
       "      <td>0.715596</td>\n",
       "      <td>0.099815</td>\n",
       "    </tr>\n",
       "    <tr>\n",
       "      <th>28</th>\n",
       "      <td>0.674312</td>\n",
       "      <td>0.136181</td>\n",
       "    </tr>\n",
       "    <tr>\n",
       "      <th>29</th>\n",
       "      <td>0.688073</td>\n",
       "      <td>0.085823</td>\n",
       "    </tr>\n",
       "    <tr>\n",
       "      <th>30</th>\n",
       "      <td>0.610092</td>\n",
       "      <td>0.101673</td>\n",
       "    </tr>\n",
       "    <tr>\n",
       "      <th>31</th>\n",
       "      <td>0.839450</td>\n",
       "      <td>0.104479</td>\n",
       "    </tr>\n",
       "    <tr>\n",
       "      <th>32</th>\n",
       "      <td>0.692661</td>\n",
       "      <td>0.166972</td>\n",
       "    </tr>\n",
       "    <tr>\n",
       "      <th>33</th>\n",
       "      <td>0.853211</td>\n",
       "      <td>0.069953</td>\n",
       "    </tr>\n",
       "    <tr>\n",
       "      <th>34</th>\n",
       "      <td>0.550459</td>\n",
       "      <td>0.114737</td>\n",
       "    </tr>\n",
       "    <tr>\n",
       "      <th>35</th>\n",
       "      <td>0.747706</td>\n",
       "      <td>0.116595</td>\n",
       "    </tr>\n",
       "    <tr>\n",
       "      <th>36</th>\n",
       "      <td>0.229358</td>\n",
       "      <td>0.085823</td>\n",
       "    </tr>\n",
       "    <tr>\n",
       "      <th>37</th>\n",
       "      <td>0.743119</td>\n",
       "      <td>0.119401</td>\n",
       "    </tr>\n",
       "    <tr>\n",
       "      <th>38</th>\n",
       "      <td>0.403670</td>\n",
       "      <td>0.110073</td>\n",
       "    </tr>\n",
       "    <tr>\n",
       "      <th>39</th>\n",
       "      <td>0.605505</td>\n",
       "      <td>0.117524</td>\n",
       "    </tr>\n",
       "    <tr>\n",
       "      <th>40</th>\n",
       "      <td>0.641198</td>\n",
       "      <td>0.087681</td>\n",
       "    </tr>\n",
       "    <tr>\n",
       "      <th>41</th>\n",
       "      <td>0.752294</td>\n",
       "      <td>0.137128</td>\n",
       "    </tr>\n",
       "    <tr>\n",
       "      <th>42</th>\n",
       "      <td>0.807339</td>\n",
       "      <td>0.109143</td>\n",
       "    </tr>\n",
       "    <tr>\n",
       "      <th>43</th>\n",
       "      <td>0.917431</td>\n",
       "      <td>0.056890</td>\n",
       "    </tr>\n",
       "    <tr>\n",
       "      <th>44</th>\n",
       "      <td>0.678899</td>\n",
       "      <td>0.115666</td>\n",
       "    </tr>\n",
       "    <tr>\n",
       "      <th>45</th>\n",
       "      <td>0.855935</td>\n",
       "      <td>0.133375</td>\n",
       "    </tr>\n",
       "    <tr>\n",
       "      <th>46</th>\n",
       "      <td>0.577982</td>\n",
       "      <td>0.066218</td>\n",
       "    </tr>\n",
       "    <tr>\n",
       "      <th>47</th>\n",
       "      <td>0.557769</td>\n",
       "      <td>0.041978</td>\n",
       "    </tr>\n",
       "    <tr>\n",
       "      <th>48</th>\n",
       "      <td>0.871560</td>\n",
       "      <td>0.179106</td>\n",
       "    </tr>\n",
       "    <tr>\n",
       "      <th>49</th>\n",
       "      <td>0.589880</td>\n",
       "      <td>0.095151</td>\n",
       "    </tr>\n",
       "  </tbody>\n",
       "</table>\n",
       "</div>"
      ],
      "text/plain": [
       "           x         y\n",
       "0   0.825688  0.074618\n",
       "1   0.779817  0.083946\n",
       "2   0.701835  0.113808\n",
       "3   0.718320  0.113808\n",
       "4   0.775229  0.039181\n",
       "5   0.908257  0.101673\n",
       "6   0.781537  0.083017\n",
       "7   0.752294  0.109143\n",
       "8   0.752294  0.092345\n",
       "9   0.770642  0.116595\n",
       "10  0.669725  0.121259\n",
       "11  0.651376  0.094203\n",
       "12  0.614679  0.128711\n",
       "13  0.669725  0.094203\n",
       "14  0.752294  0.069953\n",
       "15  0.816514  0.083017\n",
       "16  0.669725  0.106338\n",
       "17  0.623853  0.116595\n",
       "18  0.614679  0.133375\n",
       "19  0.600917  0.087681\n",
       "20  0.655963  0.077423\n",
       "21  0.711009  0.097009\n",
       "22  0.481651  0.066218\n",
       "23  0.577982  0.084875\n",
       "24  0.559633  0.128711\n",
       "25  0.816514  0.126853\n",
       "26  0.623853  0.076494\n",
       "27  0.715596  0.099815\n",
       "28  0.674312  0.136181\n",
       "29  0.688073  0.085823\n",
       "30  0.610092  0.101673\n",
       "31  0.839450  0.104479\n",
       "32  0.692661  0.166972\n",
       "33  0.853211  0.069953\n",
       "34  0.550459  0.114737\n",
       "35  0.747706  0.116595\n",
       "36  0.229358  0.085823\n",
       "37  0.743119  0.119401\n",
       "38  0.403670  0.110073\n",
       "39  0.605505  0.117524\n",
       "40  0.641198  0.087681\n",
       "41  0.752294  0.137128\n",
       "42  0.807339  0.109143\n",
       "43  0.917431  0.056890\n",
       "44  0.678899  0.115666\n",
       "45  0.855935  0.133375\n",
       "46  0.577982  0.066218\n",
       "47  0.557769  0.041978\n",
       "48  0.871560  0.179106\n",
       "49  0.589880  0.095151"
      ]
     },
     "execution_count": 6,
     "metadata": {},
     "output_type": "execute_result"
    }
   ],
   "source": [
    "df"
   ]
  },
  {
   "cell_type": "code",
   "execution_count": 7,
   "metadata": {},
   "outputs": [],
   "source": [
    "def euklid_dist(dot1, dot2):\n",
    "    return np.sqrt(np.subtract(dot1, dot2)**2).sum()"
   ]
  },
  {
   "cell_type": "code",
   "execution_count": 8,
   "metadata": {},
   "outputs": [],
   "source": [
    "def KRAB(dataframe):\n",
    "    df = dataframe.copy()\n",
    "    starter = random.randint(0, len(df))\n",
    "    distances = [starter]\n",
    "    rasst = []\n",
    "    listing = []\n",
    "    for i in range(df.shape[0]):\n",
    "        if np.array_equal(df.iloc[starter], df.iloc[i]):\n",
    "            listing.append(1000000)\n",
    "            continue\n",
    "        listing.append(euklid_dist(df.iloc[starter], df.iloc[i]))\n",
    "    distances.append(np.argmin(listing))\n",
    "    rasst.append(min(listing))\n",
    "    \n",
    "    for j in range(df.shape[0]-1):\n",
    "        tmp = []\n",
    "        for i in range(df.shape[0]-1):\n",
    "                if np.array_equal(df.loc[distances[-1]], df.iloc[i]) or i in distances:\n",
    "                    #print(str(i)+\" ->\", 1000000)\n",
    "                    tmp.append(1000000)\n",
    "                    continue\n",
    "                #print(str(i) + \" ->\", euklid_dist(df.loc[distances[-1]], df.iloc[i]))\n",
    "                tmp.append(euklid_dist(df.loc[distances[-1]], df.iloc[i]))\n",
    "        distances.append(np.argmin(tmp))\n",
    "        rasst.append(min(tmp))\n",
    "    \n",
    "    distances = distances[:len(df)-1]\n",
    "    rasst = rasst[:len(df)-2]\n",
    "    \n",
    "    cluster1 = []\n",
    "    cluster2 = []\n",
    "    dist1 = []\n",
    "    dist2 = []\n",
    "    d = max(rasst)\n",
    "    \n",
    "    for i in range(np.argmax(rasst)+1, len(distances)):\n",
    "        cluster1.append(distances[i])\n",
    "    for i in range(np.argmax(rasst)+1):\n",
    "        cluster2.append(distances[i])\n",
    "    \n",
    "    for i in range(np.argmax(rasst)+1, len(rasst)):\n",
    "        dist1.append(rasst[i])\n",
    "    for i in range(np.argmax(rasst)):\n",
    "        dist2.append(rasst[i])\n",
    "    \n",
    "    new_arr = []\n",
    "    for i in cluster1:\n",
    "        new_arr.append(df.loc[i])\n",
    "    c1 = pd.DataFrame(data=new_arr)\n",
    "    \n",
    "    new_arr = []\n",
    "    for i in cluster2:\n",
    "        new_arr.append(df.loc[i])\n",
    "    c2 = pd.DataFrame(data=new_arr)\n",
    "    \n",
    "    return c1, c2, dist1, dist2, d"
   ]
  },
  {
   "cell_type": "code",
   "execution_count": 9,
   "metadata": {},
   "outputs": [],
   "source": [
    "model = KRAB(df)"
   ]
  },
  {
   "cell_type": "code",
   "execution_count": 10,
   "metadata": {},
   "outputs": [
    {
     "data": {
      "image/png": "[encoded data removed]",
      "text/plain": [
       "<Figure size 864x648 with 1 Axes>"
      ]
     },
     "metadata": {
      "needs_background": "light"
     },
     "output_type": "display_data"
    }
   ],
   "source": [
    "plotScatter(model)"
   ]
  },
  {
   "cell_type": "markdown",
   "metadata": {},
   "source": [
    "<h4>Міра близькості об'єктів всередині класів</h4>"
   ]
  },
  {
   "cell_type": "code",
   "execution_count": 310,
   "metadata": {},
   "outputs": [],
   "source": [
    "def P(model):\n",
    "    len_c1 = model[2]\n",
    "    len_c2 = model[3]\n",
    "\n",
    "    P1 = sum(len_c1)/(len(len_c1))\n",
    "    P2 = sum(len_c2)/(len(len_c2))\n",
    "    return P1, P2"
   ]
  },
  {
   "cell_type": "code",
   "execution_count": 311,
   "metadata": {},
   "outputs": [
    {
     "data": {
      "text/plain": [
       "(0.1601988785364077, 0.035431742264981386)"
      ]
     },
     "execution_count": 311,
     "metadata": {},
     "output_type": "execute_result"
    }
   ],
   "source": [
    "P(model)"
   ]
  },
  {
   "cell_type": "markdown",
   "metadata": {},
   "source": [
    "<h4>Загальна міра близькості внутрішніх точок </h4>"
   ]
  },
  {
   "cell_type": "code",
   "execution_count": 312,
   "metadata": {},
   "outputs": [],
   "source": [
    "def ro(model):\n",
    "    arr = P(model)\n",
    "    return sum(arr)/len(arr)"
   ]
  },
  {
   "cell_type": "code",
   "execution_count": 367,
   "metadata": {},
   "outputs": [
    {
     "data": {
      "text/plain": [
       "0.09781531040069455"
      ]
     },
     "execution_count": 367,
     "metadata": {},
     "output_type": "execute_result"
    }
   ],
   "source": [
    "p = ro(model)\n",
    "p"
   ]
  },
  {
   "cell_type": "markdown",
   "metadata": {},
   "source": [
    "<h4>Відстань між класами</h4>"
   ]
  },
  {
   "cell_type": "code",
   "execution_count": 365,
   "metadata": {},
   "outputs": [],
   "source": [
    "def dist(model):\n",
    "    return model[4]/2"
   ]
  },
  {
   "cell_type": "code",
   "execution_count": 366,
   "metadata": {},
   "outputs": [
    {
     "data": {
      "text/plain": [
       "0.15588127382508016"
      ]
     },
     "execution_count": 366,
     "metadata": {},
     "output_type": "execute_result"
    }
   ],
   "source": [
    "d = dist(model)\n",
    "d"
   ]
  },
  {
   "cell_type": "markdown",
   "metadata": {},
   "source": [
    "<h4>Загальна міра неоднорідності</h4>"
   ]
  },
  {
   "cell_type": "code",
   "execution_count": 340,
   "metadata": {},
   "outputs": [],
   "source": [
    "def lambd(model):\n",
    "    alpha1 = random.choice(model[2])\n",
    "    beta1 = min(model[2][model[2].index(alpha1)-1], model[2][model[2].index(alpha1)+1])\n",
    "    \n",
    "    alpha2 = random.choice(model[3])\n",
    "    beta2 = min(model[3][model[3].index(alpha2)-1], model[3][model[3].index(alpha2)+1])\n",
    "    \n",
    "    lamb1 = beta1 / alpha1\n",
    "    lamb2 = beta2 / alpha2\n",
    "    \n",
    "    return (lamb1 + lamb2)/2"
   ]
  },
  {
   "cell_type": "code",
   "execution_count": 360,
   "metadata": {},
   "outputs": [
    {
     "data": {
      "text/plain": [
       "0.841716850142648"
      ]
     },
     "execution_count": 360,
     "metadata": {},
     "output_type": "execute_result"
    }
   ],
   "source": [
    "lamb = lambd(model)\n",
    "lamb"
   ]
  },
  {
   "cell_type": "markdown",
   "metadata": {},
   "source": [
    "<h4>Рівномірність розподілу точок</h4>"
   ]
  },
  {
   "cell_type": "code",
   "execution_count": 361,
   "metadata": {},
   "outputs": [],
   "source": [
    "def H(model):\n",
    "    first = len(model[0])\n",
    "    second = len(model[1])\n",
    "    M = first+second+1\n",
    "    return (first/M * second/M)*4"
   ]
  },
  {
   "cell_type": "code",
   "execution_count": 362,
   "metadata": {},
   "outputs": [
    {
     "data": {
      "text/plain": [
       "0.20231404958677685"
      ]
     },
     "execution_count": 362,
     "metadata": {},
     "output_type": "execute_result"
    }
   ],
   "source": [
    "h = H(model)\n",
    "h"
   ]
  },
  {
   "cell_type": "markdown",
   "metadata": {},
   "source": [
    "<h4>Загальний критерій якості в алгоритмі КРАБ</h4>"
   ]
  },
  {
   "cell_type": "code",
   "execution_count": 363,
   "metadata": {},
   "outputs": [],
   "source": [
    "def F(d, h, lamb, p):\n",
    "    return np.log((d * h)/(lamb * p))"
   ]
  },
  {
   "cell_type": "code",
   "execution_count": 364,
   "metadata": {},
   "outputs": [
    {
     "data": {
      "text/plain": [
       "-0.9596089447504869"
      ]
     },
     "execution_count": 364,
     "metadata": {},
     "output_type": "execute_result"
    }
   ],
   "source": [
    "F(d, h, lamb, p)"
   ]
  },
  {
   "cell_type": "code",
   "execution_count": null,
   "metadata": {},
   "outputs": [],
   "source": []
  }
 ],
 "metadata": {
  "kernelspec": {
   "display_name": "Python 3",
   "language": "python",
   "name": "python3"
  },
  "language_info": {
   "codemirror_mode": {
    "name": "ipython",
    "version": 3
   },
   "file_extension": ".py",
   "mimetype": "text/x-python",
   "name": "python",
   "nbconvert_exporter": "python",
   "pygments_lexer": "ipython3",
   "version": "3.8.6"
  }
 },
 "nbformat": 4,
 "nbformat_minor": 4
}
