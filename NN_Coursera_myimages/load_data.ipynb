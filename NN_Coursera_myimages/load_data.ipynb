{
 "cells": [
  {
   "cell_type": "code",
   "execution_count": 34,
   "metadata": {},
   "outputs": [],
   "source": [
    "import glob\n",
    "import numpy as np\n",
    "from PIL import Image\n",
    "import matplotlib.pyplot as plt\n",
    "%matplotlib inline\n",
    "\n",
    "\n",
    "def resize_images(source, file_format, resolution):\n",
    "    X_data = []\n",
    "    files = glob.glob(source + r'/*' + file_format)\n",
    "    for my_file in files:\n",
    "        image = Image.open(my_file).convert('RGB')\n",
    "        image = image.resize((150, 150))\n",
    "        image = np.array(image)\n",
    "        if image is None or image.shape != (resolution, resolution, 3):\n",
    "            print(f'This image is bad: {my_file} {image.shape if image is not None else \"None\"}')\n",
    "        else:\n",
    "            X_data.append(image)\n",
    "    X_data = np.array(X_data)\n",
    "    return X_data"
   ]
  },
  {
   "cell_type": "code",
   "execution_count": 50,
   "metadata": {},
   "outputs": [],
   "source": [
    "def new_data():    \n",
    "    train_x_orig_normal = resize_images(r\"TRAIN/NORMAL\", 'jpeg', 150)\n",
    "    train_y_normal = np.zeros((1, train_x_orig_normal.shape[0]))\n",
    "    train_x_orig_not_normal = resize_images(r\"TRAIN/NOT_NORMAL\", 'jpeg', 150)\n",
    "    train_y_not_normal = np.ones((1, train_x_orig_not_normal.shape[0]))\n",
    "    \n",
    "    test_x_orig_normal = resize_images(r\"DEV/NORMAL\", 'jpeg', 150)\n",
    "    test_y_normal = np.zeros((1, test_x_orig_normal.shape[0]))\n",
    "    test_x_orig_not_normal = resize_images(r\"DEV/NOT_NORMAL\", 'jpeg', 150)\n",
    "    test_y_not_normal = np.ones((1, test_x_orig_not_normal.shape[0]))\n",
    "    \n",
    "    train_x_orig = np.concatenate((train_x_orig_normal, train_x_orig_not_normal), axis = 0)\n",
    "    train_y = np.concatenate((train_y_normal, train_y_not_normal), axis = 1)\n",
    "    \n",
    "    test_x_orig = np.concatenate((test_x_orig_normal, test_x_orig_not_normal), axis = 0)\n",
    "    test_y = np.concatenate((test_y_normal, test_y_not_normal), axis = 1)\n",
    "    \n",
    "    return train_x_orig, train_y, test_x_orig, test_y"
   ]
  }
 ],
 "metadata": {
  "kernelspec": {
   "display_name": "Python 3",
   "language": "python",
   "name": "python3"
  },
  "language_info": {
   "codemirror_mode": {
    "name": "ipython",
    "version": 3
   },
   "file_extension": ".py",
   "mimetype": "text/x-python",
   "name": "python",
   "nbconvert_exporter": "python",
   "pygments_lexer": "ipython3",
   "version": "3.6.8"
  }
 },
 "nbformat": 4,
 "nbformat_minor": 4
}
