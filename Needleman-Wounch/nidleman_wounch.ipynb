{
 "cells": [
  {
   "cell_type": "code",
   "execution_count": 579,
   "metadata": {},
   "outputs": [],
   "source": [
    "import numpy as np\n",
    "\n",
    "# Визначення ф-ції, яке знаходитиме максимальне значення\n",
    "def maximum(a, b, c): \n",
    "    if (a >= b) and (a >= c): \n",
    "        largest = a \n",
    "  \n",
    "    elif (b >= a) and (b >= c): \n",
    "        largest = b \n",
    "    else: \n",
    "        largest = c \n",
    "          \n",
    "    return largest"
   ]
  },
  {
   "cell_type": "code",
   "execution_count": 580,
   "metadata": {},
   "outputs": [],
   "source": [
    "# Матриця Blosum62\n",
    "blosum62 = [[ 4, -1, -2, -2,  0, -1, -1,  0, -2, -1, -1, -1, -1, -2, -1,  1,  0, -3, -2,  0],\n",
    "  [-1,  5,  0, -2, -3,  1,  0, -2,  0, -3, -2,  2, -1, -3, -2, -1, -1, -3, -2, -3],\n",
    "  [-2,  0,  6,  1, -3,  0,  0,  0,  1, -3, -3,  0, -2, -3, -2,  1,  0, -4, -2, -3],\n",
    "  [-2, -2,  1,  6, -3,  0,  2, -1, -1, -3, -4, -1, -3, -3, -1,  0, -1, -4, -3, -3],\n",
    "  [ 0, -3, -3, -3,  9, -3, -4, -3, -3, -1, -1, -3, -1, -2, -3, -1, -1, -2, -2, -1],\n",
    "  [-1,  1,  0,  0, -3,  5,  2, -2,  0, -3, -2,  1,  0, -3, -1,  0, -1, -2, -1, -2],\n",
    "  [-1,  0,  0,  2, -4,  2,  5, -2,  0, -3, -3,  1, -2, -3, -1,  0, -1, -3, -2, -2],\n",
    "  [ 0, -2,  0, -1, -3, -2, -2,  6, -2, -4, -4, -2, -3, -3, -2,  0, -2, -2, -3, -3],\n",
    "  [-2,  0,  1, -1, -3,  0,  0, -2,  8, -3, -3, -1, -2, -1, -2, -1, -2, -2,  2, -3],\n",
    "  [-1, -3, -3, -3, -1, -3, -3, -4, -3,  4,  2, -3,  1,  0, -3, -2, -1, -3, -1,  3],\n",
    "  [-1, -2, -3, -4, -1, -2, -3, -4, -3,  2,  4, -2,  2,  0, -3, -2, -1, -2, -1,  1],\n",
    "  [-1,  2,  0, -1, -3,  1,  1, -2, -1, -3, -2,  5, -1, -3, -1,  0, -1, -3, -2, -2],\n",
    "  [-1, -1, -2, -3, -1,  0, -2, -3, -2,  1,  2, -1,  5,  0, -2, -1, -1, -1, -1,  1],\n",
    "  [-2, -3, -3, -3, -2, -3, -3, -3, -1,  0,  0, -3,  0,  6, -4, -2, -2,  1,  3, -1],\n",
    "  [-1, -2, -2, -1, -3, -1, -1, -2, -2, -3, -3, -1, -2, -4,  7, -1, -1, -4, -3, -2],\n",
    "  [ 1, -1,  1,  0, -1,  0,  0,  0, -1, -2, -2,  0, -1, -2, -1,  4,  1, -3, -2, -2],\n",
    "  [ 0, -1,  0, -1, -1, -1, -1, -2, -2, -1, -1, -1, -1, -2, -1,  1,  5, -2, -2,  0],\n",
    "  [-3, -3, -4, -4, -2, -2, -3, -2, -2, -3, -2, -3, -1,  1, -4, -3, -2, 11,  2, -3],\n",
    "  [-2, -2, -2, -3, -2, -1, -2, -3,  2, -1, -1, -2, -1,  3, -3, -2, -2,  2,  7, -1],\n",
    "  [ 0, -3, -3, -3, -1, -2, -2, -3, -3,  3,  1, -2,  1, -1, -2, -2,  0, -3, -1,  4] ];"
   ]
  },
  {
   "cell_type": "code",
   "execution_count": 581,
   "metadata": {},
   "outputs": [],
   "source": [
    "#Словник значень\n",
    "db = {\n",
    "    'A': 0,\n",
    "    'R': 1,\n",
    "    'N': 2,\n",
    "    'D': 3,\n",
    "    'C': 4,\n",
    "    'Q': 5,\n",
    "    'E': 6,\n",
    "    'G': 7,\n",
    "    'H': 8,\n",
    "    'I': 9,\n",
    "    'L': 10,\n",
    "    'K': 11,\n",
    "    'M': 12,\n",
    "    'F': 13,\n",
    "    'P': 14,\n",
    "    'S': 15,\n",
    "    'T': 16,\n",
    "    'W': 17,\n",
    "    'Y': 18,\n",
    "    'V': 19,\n",
    "    'B': 20,\n",
    "    'Z': 21,\n",
    "    'X': 22,\n",
    "    '*': 23\n",
    "}"
   ]
  },
  {
   "cell_type": "code",
   "execution_count": 599,
   "metadata": {},
   "outputs": [],
   "source": [
    "#Визначення послідовностей\n",
    "seq1 = '.FLEKDG'\n",
    "seq2 = '.IQLEKK'"
   ]
  },
  {
   "cell_type": "code",
   "execution_count": 583,
   "metadata": {},
   "outputs": [],
   "source": [
    "# Ініціалізація вагів матриці\n",
    "def initialize_matrix(sequence1, sequence2):\n",
    "    matrix = np.zeros([len(sequence2), len(sequence1)])\n",
    "    \n",
    "    for i in range(1,len(matrix[0])):\n",
    "        matrix[0,i] = matrix[0,i-1] - 8\n",
    "        \n",
    "    for i in range(1, len(matrix[0])):\n",
    "        matrix[i,0] = matrix[i-1,0] - 8\n",
    "    return matrix"
   ]
  },
  {
   "cell_type": "code",
   "execution_count": 584,
   "metadata": {},
   "outputs": [],
   "source": [
    "matrix = initialize_matrix(seq1, seq2)"
   ]
  },
  {
   "cell_type": "code",
   "execution_count": 585,
   "metadata": {},
   "outputs": [],
   "source": [
    "#Заповнення матриці значеннями\n",
    "backward = []\n",
    "for i in range(1, len(matrix[1])): # Прохід по стовпчикам\n",
    "    for j in range(1, len(matrix[1])): # прохід по рядку\n",
    "        blos = blosum62[db[seq2[i]]][db[seq1[j]]] # Отримати значення з матриці BLOSUM62\n",
    "        iskosok = matrix[i-1][j-1] + blos # Перше значення\n",
    "        left = matrix[i][j-1] - 8 # друге значення\n",
    "        up = matrix[i-1][j] - 8 # третє значення\n",
    "        matrix[i][j] = maximum(iskosok, left, up) # обрати максимальне із значень\n",
    "        ##---------------------------------------\n",
    "        ## ДОДАВАННЯ ІНДЕКСІВ ДО ОКРЕМОГО СПИСКУ\n",
    "        if maximum(iskosok, left, up) == iskosok:\n",
    "            backward.append([i-1,j-1])\n",
    "        elif maximum(iskosok, left, up) == left:\n",
    "            backward.append([i, j-1])\n",
    "        elif maximum(iskosok, left, up) == up:\n",
    "            backward.append([i-1, j])"
   ]
  },
  {
   "cell_type": "code",
   "execution_count": 586,
   "metadata": {},
   "outputs": [
    {
     "data": {
      "text/plain": [
       "array([[  0.,  -8., -16., -24., -32., -40., -48.],\n",
       "       [ -8.,   0.,  -6., -14., -22., -30., -38.],\n",
       "       [-16.,  -8.,  -2.,  -4., -12., -20., -28.],\n",
       "       [-24., -16.,  -4.,  -5.,  -6., -14., -22.],\n",
       "       [-32., -24., -12.,   1.,  -4.,  -4., -12.],\n",
       "       [-40., -32., -20.,  -7.,   6.,  -2.,  -6.],\n",
       "       [-48., -40., -28., -15.,  -2.,   5.,  -3.]])"
      ]
     },
     "execution_count": 586,
     "metadata": {},
     "output_type": "execute_result"
    }
   ],
   "source": [
    "matrix # Порахована матриця"
   ]
  },
  {
   "cell_type": "code",
   "execution_count": 587,
   "metadata": {},
   "outputs": [],
   "source": [
    "#\n",
    "result=[]\n",
    "for i in range(len(matrix)-1, -1, -1):\n",
    "    for j in range(len(matrix[0])-1, 0, -1):\n",
    "        if [i-1,j-1] in backward:\n",
    "            result.append('diag')\n",
    "            i-=1\n",
    "            j-=1\n",
    "        elif [i-1,j] in backward:\n",
    "            result.append('top')\n",
    "            i-=1\n",
    "        elif [i,j-1] in backward:\n",
    "            result.append('left')\n",
    "            j-=1"
   ]
  },
  {
   "cell_type": "code",
   "execution_count": 588,
   "metadata": {},
   "outputs": [],
   "source": [
    "res = result[:len(seq1)]"
   ]
  },
  {
   "cell_type": "code",
   "execution_count": 590,
   "metadata": {},
   "outputs": [],
   "source": [
    "resseq1 = []\n",
    "resseq2 = []"
   ]
  },
  {
   "cell_type": "code",
   "execution_count": 591,
   "metadata": {},
   "outputs": [
    {
     "name": "stdout",
     "output_type": "stream",
     "text": [
      "left G K\n",
      "diag D K\n",
      "diag K E\n",
      "diag E L\n",
      "diag L Q\n",
      "top F I\n",
      "diag . .\n"
     ]
    }
   ],
   "source": [
    "for i in range(0, len(res)):\n",
    "    print(res[i],seq1[-i-1], seq2[-i-1])\n",
    "    if res[i] == 'diag':\n",
    "        resseq1.append(seq2[-i-1])\n",
    "        resseq2.append(seq1[-i-1])\n",
    "    if res[i] == 'left':\n",
    "        resseq1.append(seq2[-i-1])\n",
    "        resseq2.append('-')\n",
    "    if res[i] == 'top':\n",
    "        resseq1.append('-')\n",
    "        resseq2.append(seq1[-i-1])"
   ]
  },
  {
   "cell_type": "code",
   "execution_count": 592,
   "metadata": {},
   "outputs": [],
   "source": [
    "resseq1.reverse()"
   ]
  },
  {
   "cell_type": "code",
   "execution_count": 593,
   "metadata": {},
   "outputs": [],
   "source": [
    "resseq2.reverse()"
   ]
  },
  {
   "cell_type": "code",
   "execution_count": 594,
   "metadata": {},
   "outputs": [
    {
     "data": {
      "text/plain": [
       "['-', 'Q', 'L', 'E', 'K', 'K']"
      ]
     },
     "execution_count": 594,
     "metadata": {},
     "output_type": "execute_result"
    }
   ],
   "source": [
    "resseq1[1:]"
   ]
  },
  {
   "cell_type": "code",
   "execution_count": 595,
   "metadata": {},
   "outputs": [
    {
     "data": {
      "text/plain": [
       "['F', 'L', 'E', 'K', 'D', '-']"
      ]
     },
     "execution_count": 595,
     "metadata": {},
     "output_type": "execute_result"
    }
   ],
   "source": [
    "resseq2[1:]"
   ]
  },
  {
   "cell_type": "code",
   "execution_count": 596,
   "metadata": {},
   "outputs": [],
   "source": [
    "result1 = \" \".join(str(x) for x in resseq1[1:])"
   ]
  },
  {
   "cell_type": "code",
   "execution_count": 597,
   "metadata": {},
   "outputs": [],
   "source": [
    "result2 = \" \".join(str(x) for x in resseq2[1:])"
   ]
  },
  {
   "cell_type": "code",
   "execution_count": 598,
   "metadata": {},
   "outputs": [
    {
     "name": "stdout",
     "output_type": "stream",
     "text": [
      "- Q L E K K\n",
      "F L E K D -\n"
     ]
    }
   ],
   "source": [
    "print(result1)\n",
    "print(result2)"
   ]
  }
 ],
 "metadata": {
  "kernelspec": {
   "display_name": "Python 3",
   "language": "python",
   "name": "python3"
  },
  "language_info": {
   "codemirror_mode": {
    "name": "ipython",
    "version": 3
   },
   "file_extension": ".py",
   "mimetype": "text/x-python",
   "name": "python",
   "nbconvert_exporter": "python",
   "pygments_lexer": "ipython3",
   "version": "3.6.8"
  }
 },
 "nbformat": 4,
 "nbformat_minor": 4
}
