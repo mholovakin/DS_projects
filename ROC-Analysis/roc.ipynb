{
 "cells": [
  {
   "cell_type": "code",
   "execution_count": 1,
   "metadata": {},
   "outputs": [],
   "source": [
    "import random\n",
    "import numpy as np\n",
    "from numpy.random import seed\n",
    "from numpy.random import randint\n",
    "import pandas as pd\n",
    "import matplotlib.pyplot as plt"
   ]
  },
  {
   "cell_type": "code",
   "execution_count": 88,
   "metadata": {},
   "outputs": [],
   "source": [
    "def initialize_data(amount):\n",
    "    seed(2)\n",
    "    values = randint(10,100,amount)\n",
    "    data = sorted(list(set(values)))\n",
    "    return data"
   ]
  },
  {
   "cell_type": "code",
   "execution_count": 89,
   "metadata": {},
   "outputs": [],
   "source": [
    "def mark_data(data):\n",
    "    mark = []\n",
    "    for i in data:\n",
    "        if i <= 40:\n",
    "            mark.append(0)\n",
    "        elif i >= 60:\n",
    "            mark.append(1)\n",
    "        else:\n",
    "            mark.append(random.choice([0, 1]))\n",
    "    return mark"
   ]
  },
  {
   "cell_type": "code",
   "execution_count": 90,
   "metadata": {},
   "outputs": [],
   "source": [
    "def calculateSeSp(mark):\n",
    "    markers_new=[0]*len(mark)\n",
    "    Se = list()\n",
    "    Sp = []\n",
    "\n",
    "    zeros=np.array(mark)\n",
    "    zeros_amount = np.count_nonzero(zeros==0)\n",
    "    ones_amount=len(mark)-zeros_amount\n",
    "    count_one = 0 \n",
    "    count_zero=zeros_amount\n",
    "\n",
    "\n",
    "    for i in range(len(mark)):\n",
    "        markers_new[i]=1\n",
    "        if mark[i] == 1:\n",
    "            count_one+=1\n",
    "        else:\n",
    "            count_zero-=1\n",
    "        Se.append((((count_one*100)/ones_amount)))\n",
    "        Sp.append((((count_zero*100)/zeros_amount)))\n",
    "    return Se, Sp"
   ]
  },
  {
   "cell_type": "code",
   "execution_count": 91,
   "metadata": {},
   "outputs": [],
   "source": [
    "data = initialize_data(30)"
   ]
  },
  {
   "cell_type": "code",
   "execution_count": 92,
   "metadata": {},
   "outputs": [],
   "source": [
    "def roc(data):\n",
    "    mark = mark_data(data)\n",
    "    Se, Sp = calculateSeSp(mark)\n",
    "    df = pd.DataFrame({\n",
    "    'ages': data,\n",
    "    'y': mark,\n",
    "    'Sp': np.around(Sp, 4),\n",
    "    'Se': np.around(Se, 4)\n",
    "    })\n",
    "    df = df[['ages', 'Sp', 'Se']]\n",
    "    first = df.iloc[np.argmin(abs(df.iloc[:,1] - df.iloc[:,2])), 0]\n",
    "    second = df.iloc[np.argmax(df.iloc[:,1] + df.iloc[:,2]), 0]\n",
    "    third = df[df['Sp'] > 40].iloc[np.argmax(df['Se'][df['Sp'] > 40]), 0]\n",
    "    return df, first, second, third"
   ]
  },
  {
   "cell_type": "code",
   "execution_count": 99,
   "metadata": {},
   "outputs": [],
   "source": [
    "model = roc(data)"
   ]
  },
  {
   "cell_type": "code",
   "execution_count": 100,
   "metadata": {},
   "outputs": [],
   "source": [
    "df = model[0]\n",
    "first_age = model[1]\n",
    "second_age = model[2]\n",
    "third_age = model[3]"
   ]
  },
  {
   "cell_type": "code",
   "execution_count": 101,
   "metadata": {},
   "outputs": [
    {
     "name": "stdout",
     "output_type": "stream",
     "text": [
      "Crit 1: 52\n",
      "Crit 2: 98\n",
      "Crit 3: 44\n"
     ]
    }
   ],
   "source": [
    "print('Crit 1:', first_age)\n",
    "print('Crit 2:', second_age)\n",
    "print('Crit 3:', third_age)"
   ]
  },
  {
   "cell_type": "code",
   "execution_count": 129,
   "metadata": {},
   "outputs": [
    {
     "data": {
      "text/plain": [
       "[<matplotlib.lines.Line2D at 0x1f150cccfd0>]"
      ]
     },
     "execution_count": 129,
     "metadata": {},
     "output_type": "execute_result"
    },
    {
     "data": {
      "image/png": "[encoded data removed]",
      "text/plain": [
       "<Figure size 432x288 with 1 Axes>"
      ]
     },
     "metadata": {
      "needs_background": "light"
     },
     "output_type": "display_data"
    }
   ],
   "source": [
    "plt.plot(df.iloc[:, 1], 100 - df.iloc[:, 2])"
   ]
  },
  {
   "cell_type": "code",
   "execution_count": 136,
   "metadata": {},
   "outputs": [],
   "source": [
    "def AUC(df):\n",
    "    x = df.iloc[:, 1]\n",
    "    y = df.iloc[:, 2]\n",
    "    area = 0\n",
    "    for i in range(len(x)-1):\n",
    "        area += (x[i] + x[i+1])/2 * (y[i+1]-y[i])\n",
    "    return area"
   ]
  },
  {
   "cell_type": "code",
   "execution_count": 141,
   "metadata": {},
   "outputs": [
    {
     "name": "stdout",
     "output_type": "stream",
     "text": [
      "AUC: 1336.9\n"
     ]
    }
   ],
   "source": [
    "area = AUC(df)\n",
    "print('AUC: %.1f' % area)"
   ]
  }
 ],
 "metadata": {
  "kernelspec": {
   "display_name": "Python 3",
   "language": "python",
   "name": "python3"
  },
  "language_info": {
   "codemirror_mode": {
    "name": "ipython",
    "version": 3
   },
   "file_extension": ".py",
   "mimetype": "text/x-python",
   "name": "python",
   "nbconvert_exporter": "python",
   "pygments_lexer": "ipython3",
   "version": "3.8.6"
  }
 },
 "nbformat": 4,
 "nbformat_minor": 4
}
